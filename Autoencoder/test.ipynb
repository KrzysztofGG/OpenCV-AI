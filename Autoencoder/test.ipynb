{
 "cells": [
  {
   "cell_type": "markdown",
   "metadata": {},
   "source": [
    "# Notatnik do testowania modelu autoenkodera"
   ]
  },
  {
   "cell_type": "markdown",
   "metadata": {},
   "source": [
    "1. Zainstalowanie wszystkich pakietów wymaganych do działania notatnika\n",
    "```pip install -r requirements.txt```\n",
    "\n",
    "2. Ustawienie ścieżek do obrazów (`noisy_image_path` i `clean_image_path` w komórce poniżej)\n",
    "\n",
    "3. Uruchomienie wszystkich komórek w kolejności\n",
    "\n",
    "4. Sprawdzenie wyników w oknie wyświetlanym po uruchomieniu ostatniej komórki"
   ]
  },
  {
   "cell_type": "code",
   "execution_count": 63,
   "metadata": {},
   "outputs": [],
   "source": [
    "# sciezka do obrazu uszkodzonej elipsy\n",
    "noisy_image_path = 'testData/noisy/slice_0012.png'\n",
    "# sciezka do oryginalnego obrazu elipsy\n",
    "clean_image_path = 'testData/clean/slice_0012.png'"
   ]
  },
  {
   "cell_type": "code",
   "execution_count": 64,
   "metadata": {},
   "outputs": [],
   "source": [
    "model_path = 'best_model.pth'"
   ]
  },
  {
   "cell_type": "code",
   "execution_count": 65,
   "metadata": {},
   "outputs": [],
   "source": [
    "import torch\n",
    "import cv2\n",
    "import numpy as np\n",
    "import matplotlib.pyplot as plt\n",
    "import torch.nn as nn\n",
    "\n",
    "class DenoisingAutoencoder(nn.Module):\n",
    "    def __init__(self):\n",
    "        super(DenoisingAutoencoder, self).__init__()\n",
    "        # Encoder layers\n",
    "        self.enc1 = nn.Sequential(\n",
    "            nn.Conv2d(1, 32, kernel_size=3, stride=2, padding=1),\n",
    "            nn.BatchNorm2d(32),\n",
    "            nn.ReLU()\n",
    "        )\n",
    "        self.enc2 = nn.Sequential(\n",
    "            nn.Conv2d(32, 64, kernel_size=3, stride=2, padding=1),\n",
    "            nn.BatchNorm2d(64),\n",
    "            nn.ReLU()\n",
    "        )\n",
    "        self.enc3 = nn.Sequential(\n",
    "            nn.Conv2d(64, 128, kernel_size=3, stride=2, padding=1),\n",
    "            nn.BatchNorm2d(128),\n",
    "            nn.ReLU()\n",
    "        )\n",
    "        \n",
    "        # Decoder layers\n",
    "        self.dec1 = nn.Sequential(\n",
    "            nn.ConvTranspose2d(128, 64, kernel_size=3, stride=2, padding=1, output_padding=1),\n",
    "            nn.BatchNorm2d(64),\n",
    "            nn.ReLU()\n",
    "        )\n",
    "        self.dec2 = nn.Sequential(\n",
    "            nn.ConvTranspose2d(128, 32, kernel_size=3, stride=2, padding=1, output_padding=1),\n",
    "            nn.BatchNorm2d(32),\n",
    "            nn.ReLU()\n",
    "        )\n",
    "        self.dec3 = nn.Sequential(\n",
    "            nn.ConvTranspose2d(64, 1, kernel_size=3, stride=2, padding=1, output_padding=1),\n",
    "            nn.Sigmoid()\n",
    "        )\n",
    "\n",
    "    def forward(self, x):\n",
    "        # Encoder\n",
    "        e1 = self.enc1(x)\n",
    "        e2 = self.enc2(e1)\n",
    "        e3 = self.enc3(e2)\n",
    "        \n",
    "        # Decoder with skip connections\n",
    "        d1 = self.dec1(e3)\n",
    "        d1 = torch.cat([d1, e2], dim=1)  # Skip connection\n",
    "        d2 = self.dec2(d1)\n",
    "        d2 = torch.cat([d2, e1], dim=1)  # Skip connection\n",
    "        d3 = self.dec3(d2)\n",
    "        return d3\n",
    "\n",
    "def load_model(model_path):\n",
    "    return torch.load(model_path)\n",
    "\n",
    "def denoise_image(model, image_path):\n",
    "    device = torch.device('cuda' if torch.cuda.is_available() else 'cpu')\n",
    "    model = model.to(device)\n",
    "    model.eval()\n",
    "    \n",
    "    # Load and preprocess image\n",
    "    img = cv2.imread(str(image_path), cv2.IMREAD_GRAYSCALE)\n",
    "    img = img.astype(np.float32) / 255.0\n",
    "    img = np.expand_dims(img, axis=(0, 1))  # Add batch and channel dimensions\n",
    "    img_tensor = torch.FloatTensor(img).to(device)\n",
    "    \n",
    "    with torch.no_grad():\n",
    "        denoised = model(img_tensor)\n",
    "    \n",
    "    # Convert back to image\n",
    "    denoised = denoised.cpu().numpy()[0, 0]\n",
    "    denoised = (denoised * 255).astype(np.uint8)\n",
    "    \n",
    "    return denoised\n",
    "\n",
    "def dice_coefficient(img1, img2):\n",
    "    # Normalize images to binary (0 or 1)\n",
    "    img1_binary = (img1 > 127).astype(np.float32)\n",
    "    img2_binary = (img2 > 127).astype(np.float32)\n",
    "    \n",
    "    # Calculate intersection and union\n",
    "    intersection = np.sum(img1_binary * img2_binary)\n",
    "    union = np.sum(img1_binary) + np.sum(img2_binary)\n",
    "    \n",
    "    # Avoid division by zero\n",
    "    if union == 0:\n",
    "        return 1.0\n",
    "        \n",
    "    return (2.0 * intersection) / union\n",
    "\n",
    "def compare_images(noisy_image, denoised_image, clean_image):\n",
    "    # Calculate Dice coefficient between denoised and clean image\n",
    "    dice_score = dice_coefficient(denoised_image, clean_image)\n",
    "    print(f\"Dice Coefficient: {dice_score:.4f}\")\n",
    "\n",
    "    plt.figure(figsize=(10, 6))\n",
    "    plt.subplot(1, 3, 1)\n",
    "    plt.title('Noisy Image')\n",
    "    plt.imshow(noisy_image, cmap='gray')\n",
    "    plt.axis('off')\n",
    "\n",
    "    plt.subplot(1, 3, 2)\n",
    "    plt.title('Denoised Image')\n",
    "    plt.imshow(denoised_image, cmap='gray')\n",
    "    plt.axis('off')\n",
    "\n",
    "    plt.subplot(1, 3, 3)\n",
    "    plt.title('Clean Image')\n",
    "    plt.imshow(clean_image, cmap='gray')\n",
    "    plt.axis('off')\n",
    "    plt.show()\n",
    "\n",
    "def denoise_and_compare(model, noisy_image_path, clean_image_path):\n",
    "    noisy_image = cv2.imread(noisy_image_path, cv2.IMREAD_GRAYSCALE)\n",
    "    denoised_image = denoise_image(model, noisy_image_path)\n",
    "    clean_image = cv2.imread(clean_image_path, cv2.IMREAD_GRAYSCALE)\n",
    "    compare_images(noisy_image, denoised_image, clean_image)\n"
   ]
  },
  {
   "cell_type": "markdown",
   "metadata": {},
   "source": [
    "# Wynik"
   ]
  },
  {
   "cell_type": "code",
   "execution_count": 66,
   "metadata": {},
   "outputs": [
    {
     "name": "stdout",
     "output_type": "stream",
     "text": [
      "Dice Coefficient: 0.9992\n"
     ]
    },
    {
     "name": "stderr",
     "output_type": "stream",
     "text": [
      "/tmp/ipykernel_66776/3910510738.py:58: FutureWarning: You are using `torch.load` with `weights_only=False` (the current default value), which uses the default pickle module implicitly. It is possible to construct malicious pickle data which will execute arbitrary code during unpickling (See https://github.com/pytorch/pytorch/blob/main/SECURITY.md#untrusted-models for more details). In a future release, the default value for `weights_only` will be flipped to `True`. This limits the functions that could be executed during unpickling. Arbitrary objects will no longer be allowed to be loaded via this mode unless they are explicitly allowlisted by the user via `torch.serialization.add_safe_globals`. We recommend you start setting `weights_only=True` for any use case where you don't have full control of the loaded file. Please open an issue on GitHub for any issues related to this experimental feature.\n",
      "  return torch.load(model_path)\n"
     ]
    },
    {
     "data": {
      "image/png": "[encoded data removed]",
      "text/plain": [
       "<Figure size 1000x600 with 3 Axes>"
      ]
     },
     "metadata": {},
     "output_type": "display_data"
    }
   ],
   "source": [
    "model = load_model(model_path)\n",
    "denoise_and_compare(model, noisy_image_path, clean_image_path)\n"
   ]
  }
 ],
 "metadata": {
  "kernelspec": {
   "display_name": ".venv",
   "language": "python",
   "name": "python3"
  },
  "language_info": {
   "codemirror_mode": {
    "name": "ipython",
    "version": 3
   },
   "file_extension": ".py",
   "mimetype": "text/x-python",
   "name": "python",
   "nbconvert_exporter": "python",
   "pygments_lexer": "ipython3",
   "version": "3.11.9"
  }
 },
 "nbformat": 4,
 "nbformat_minor": 2
}
